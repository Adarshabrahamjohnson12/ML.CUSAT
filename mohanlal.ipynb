{
 "cells": [
  {
   "cell_type": "code",
   "execution_count": 2,
   "id": "6812825b-6b98-4dd9-afdf-8fd461d39756",
   "metadata": {},
   "outputs": [
    {
     "name": "stdout",
     "output_type": "stream",
     "text": [
      "Requirement already satisfied: BeautifulSoup4 in c:\\users\\aadar\\onedrive\\documents\\cusat\\jupyter\\lib\\site-packages (4.12.3)\n",
      "Requirement already satisfied: soupsieve>1.2 in c:\\users\\aadar\\onedrive\\documents\\cusat\\jupyter\\lib\\site-packages (from BeautifulSoup4) (2.5)\n"
     ]
    }
   ],
   "source": [
    "!pip install BeautifulSoup4"
   ]
  },
  {
   "cell_type": "code",
   "execution_count": 5,
   "id": "5ebbfaf0-1492-414a-a89b-d839dd736040",
   "metadata": {},
   "outputs": [],
   "source": [
    "from bs4 import BeautifulSoup\n",
    "import requests"
   ]
  },
  {
   "cell_type": "code",
   "execution_count": 7,
   "id": "9a0c7cfc-55e2-42fa-9796-527ea275e996",
   "metadata": {},
   "outputs": [],
   "source": [
    "url = \"https://en.wikipedia.org/wiki/Mohanlal_filmography\"\n",
    "page = requests.get(url)\n",
    "soup = BeautifulSoup(page.text,'html')"
   ]
  },
  {
   "cell_type": "code",
   "execution_count": 21,
   "id": "f1a3812d-1925-4a7d-bc13-43006b5ba928",
   "metadata": {},
   "outputs": [],
   "source": [
    "table = soup.find_all('table')[1]"
   ]
  },
  {
   "cell_type": "code",
   "execution_count": 29,
   "id": "60c6b585-e71f-4f96-93d2-6bc576b1f3e6",
   "metadata": {},
   "outputs": [],
   "source": [
    "column_data = table.find_all('tr')[1:]"
   ]
  },
  {
   "cell_type": "code",
   "execution_count": 34,
   "id": "cb808bec-0ac9-4880-bb89-67208f8774d8",
   "metadata": {},
   "outputs": [
    {
     "name": "stdout",
     "output_type": "stream",
     "text": [
      "['Manjil Virinja Pookkal', 'Sanchari', 'Thakilu Kottampuram', 'Dhanya', 'Dhruvasangamam', 'Attimari', 'Oothikachiya Ponnu', 'Thenum Vayambum', 'Ahimsa', 'Madrasile Mon', 'Football', 'Kelkkaatha Sabdham', 'Padayottam', 'Enikkum Oru Divasam', 'Aakrosham', 'Enthino Pookunna Pookkal', 'Sindoora Sandhyakku Mounam', 'Ente Mohangal Poovaninju', 'Njan Onnu Parayatte', 'Aa Divasam', 'Kaliyamardanam', 'Sree Ayyappanum Vavarum', 'Kurukkante Kalyanam', 'Visa', 'Hello Madras Girl', 'Ente Katha', 'Bhookambam', 'Guru Dakshina', 'Naseema', 'Kolakkomban', 'Kuyiline Thedi', 'Himavahini', 'Arabikkadal', 'Sesham Kazhchayil', 'Marakkillorikkalum', 'Sandhyakku Virinja Poovu', 'Thaavalam', 'Aadhipathyam', 'Chakravalam Chuvannappol', 'Engane Nee Marakkum', 'Iniyengilum', 'Attakkalasam', 'Kattathe Kilikkoodu', 'Asthram', 'Changatham', 'Oru Mukham Pala Mukham', 'Nanayam', 'Ente Mamattikkuttiyammakku', 'Pinnilavu', 'Akkare', 'Onnanu Nammal', 'Swanthamevide Bandhamevide', 'Vanitha Police', 'Appunni', 'Athirathram', 'Unaroo', 'Kaliyil Alpam Karyam', 'Poochakkoru Mookkuthi', 'Pavam Poornima', 'Lakshmana Rekha', 'Aalkkoottathil Thaniye', 'Vetta', 'Ivide Thudangunnu', 'Kurishuyudham', 'Manasariyathe', 'Thirakal', 'Kilikkonchal', 'Itha Innu Muthal', 'Sreekrishna Parunthu', 'Aduthaduthu', 'Ariyaatha Veethikal', 'Uyarangalil', 'Adiyozhukkukal', 'Oru Kochu Swapnam', 'Avidathepole Ivideyum', 'Nokketha Doorathu Kannum Nattu', 'Omanikkan Ormavaikkan', 'Aram + Aram = Kinnaram', 'Nayakan', 'Njan Piranna Nattil', 'Onnanam Kunnil Oradi Kunnil', 'Anubandham', 'Mulamoottil Adima', 'Vasantha Sena', 'Guruji Oru Vakku', 'Parayanumvayya Parayathirikkanumvayya', 'Angadikkappurathu', 'Koodum Thedi', 'Jeevante Jeevan', 'Adhyayam Onnu Muthal', 'Azhiyatha Bandhangal', 'Boeing Boeing', 'Karimpinpoovinakkare', 'Uyarum Njan Nadake', 'Idanilangal', 'Pathamudayam', 'Rangam', 'Ezhu Muthal Onpathu Vare', 'Kandu Kandarinju', 'Ninnishtam Ennishtam', 'Pappan Priyappetta Pappan', 'Oppam Oppathinoppam', 'Mazha Peyyunnu Maddalam Kottunnu', 'Panchagni', 'Kariyilakkattupole', 'Abhayam Thedi', 'Vartha', 'Geetham', 'Hello My Dear Wrong Number', 'Neram Pularumbol', 'Iniyum Kurukshetrum', 'Kaveri', 'Mizhineerppoovukal', 'Poomukhappadiyil Ninneyum Kathu', 'Nimishangal', 'Doore Doore Oru Koodu Koottam', 'Yuvajanotsavam', 'Shobhraj', 'Onnu Muthal Poojyam Vare', 'Ente Entethu Mathram', 'Padayani', 'Manasilloru Manimuthu', 'Sanmanassullavarkku Samadhanam', 'Adiverukal', 'Deshadanakkili Karayarilla', 'Revathikkoru Pavakkutty', 'Kunjattakkilikal', 'T. P. Balagopalan M.A.', 'Gandhinagar 2nd Street', 'Rajavinte Makan', 'Namukku Parkkan Munthirithoppukal', 'Sukhamo Devi', 'Thalavattam', 'January Oru Orma', 'Amrutham Gamaya', 'Adimakal Udamakal', 'Sarvakalashala', 'Irupatham Noottandu', 'Bhoomiyile Rajakkanmar', 'Unnikale Oru Kadha Parayam', 'Thoovanathumbikal', 'Kaiyethum Doorathu', 'Vazhiyorakkazhcakal', 'Cheppu', 'Nadodikkattu', 'Ivide Ellavarkum Sugham', 'Mukunthetta Sumitra Vilikkunnu', 'Ayitham', 'Manu Uncle', 'Orkkappurathu', 'Paadha Mudra', 'Pattanapravesham', 'Anuragi', 'Aryan', 'Moonnam Mura', 'Vellanakalude Nadu', 'Ulsavapittennu', 'Chithram', 'Lal Americayil', 'Douthyam', 'Season', 'Varavelpu', 'Naduvazhikal', 'Peruvannapurathe Visheshangal', 'Kireedam', 'Vandanam', 'Adhipan', 'Dasharatham', 'Aye Auto', 'Akkare Akkare Akkare', 'No.20 Madras Mail', 'His Highness Abdullah', 'Mukham', 'Kadathanadan Ambadi', 'Thazhvaram', 'Arhatha', 'Indrajaalam', 'Appu', 'Lal Salam', 'Dhanam', 'Gopura Vasalile', 'Bharatham', 'Vasthuhara', 'Vishnulokam', 'Uncle Bun', 'Kilukkam', 'Ulladakkam', 'Kizhakkunarum Pakshi', 'Abhimanyu', 'Sadayam', 'Kamaladalam', 'Aham', 'Rajashilpi', 'Yoddha', 'Adhwaytham', 'Soorya Gayathri', 'Naadody', 'Vietnam Colony', 'Mithunam', 'Devaasuram', 'Butterflies', 'Maya Mayooram', 'Gandharvam', 'Chenkol', 'Kalippattam', 'Manichithrathazhu', 'Pavithram', 'Thenmavin Kombath', 'Pingami', 'Gandeevam', 'Pakshe', 'Minnaram', 'Nirnayam', 'Spadikam', 'Thacholi Varghese Chekavar', 'Manthrikam', 'Agnidevan', 'Kaalapani', 'The Prince', 'Iruvar', 'Varnapakittu', 'Oru Yathramozhi', 'Chandralekha', 'Guru', 'Aaraam Thampuran', 'Kanmadam', 'Harikrishnans', 'Rakthasakshikal Sindabad', 'Ayal Kadha Ezhuthukayanu', 'Summer in Bethlahem', 'Ustaad', 'Olympiyan Anthony Adam', 'Vanaprastham', 'Narasimham', 'Life is Beautiful', 'Sraddha', 'Devadoothan', 'Kakkakuyil', 'Ravanaprabhu', 'Praja', 'Unnathangalil', 'Achaneyanenikkishtam', 'Company', 'Onnaman', 'Thandavam', 'Chathurangam', 'Pop Carn', 'Mr. Brahmachari', 'Kilichundan Mampazham', 'Balettan', 'Hariharan Pilla Happy Aanu', 'Thiranottam', 'Vamanapuram Bus Route', 'Vismayathumbathu', 'Love', 'Wanted', 'Natturajavu', 'Mampazhakkalam', 'Udayananu Tharam', 'Chandrolsavam', 'Udayon', 'Naran', 'Thanmathra', 'Kilukkam Kilukilukkam', 'Rasathanthram', 'Vadakkumnathan', 'Keerthi Chakra', 'Mahasamudram', 'Photographer', 'Baba Kalyani', 'Chotta Mumbai', 'Hallo', 'Alibhai', 'Ram Gopal Varma Ki Aag', 'Paradesi', \"Rock N' Roll\", 'Flash', 'Halla Bol', 'College Kumaran', 'Innathe Chintha Vishayam', 'Mizhikal Sakshi', 'Madampi', 'Aakasha Gopuram', 'Kurukshetra', 'Twenty:20', 'Pakal Nakshatrangal', 'Red Chillies', 'Sagar Alias Jacky Reloaded', 'Bhagavan', 'Bhramaram', 'Unnaipol Oruvan', 'Angel John', 'Evidam Swargamanu', 'Janakan', 'Alexander the Great', 'Oru Naal Varum', 'Shikkar', 'Kandahar', 'Christian Brothers', 'China Town', 'Pranayam', 'Snehaveedu', 'Oru Marubhoomikkadha', 'Casanovva', 'Tezz', 'Grandmaster', 'Spirit', 'Run Baby Run', 'Karmayodha', 'Lokpal', 'Red Wine', 'Ladies and Gentleman', 'Kadal Kadannu Oru Maathukutty', 'Geethaanjali', 'Drishyam', 'Jilla', 'Mr. Fraud', 'Koothara', 'Peruchazhi', 'Rasam', 'Mythri', 'Ennum Eppozhum', 'Lailaa O Lailaa', 'Loham', 'Kanal', 'Manamantha', 'Janatha Garage', 'Oppam', 'Pulimurugan', 'Munthirivallikal Thalirkkumbol', '1971: Beyond Borders', 'Velipadinte Pusthakam', 'Villain', 'Aadhi', 'Neerali', 'Kayamkulam Kochunni', 'Drama', 'Odiyan', 'Lucifer', 'Ittymaani: Made in China', 'Kaappaan', 'Big Brother', 'Drishyam 2', 'Marakkar: Arabikadalinte Simham', 'Bro Daddy', 'Aaraattu', '12th Man', 'Monster', 'Alone', 'Jailer', 'Neru', 'Malaikottai Vaaliban', 'Barroz†', 'Kannappa†', 'Vrushabha†', 'Ram: Part 1†', 'L2: Empuraan†']\n"
     ]
    }
   ],
   "source": [
    "films=[]\n",
    "for row in column_data:\n",
    "    film_title = row.find(\"th\").get_text(strip=True)\n",
    "    films.append(film_title)\n",
    "print(films)"
   ]
  },
  {
   "cell_type": "code",
   "execution_count": 36,
   "id": "0addbd6d-5d4c-4462-8f6b-f9e9a76294d9",
   "metadata": {},
   "outputs": [],
   "source": [
    "with open(\"mohanlal_films.txt\", \"w\") as f:\n",
    "    for film in films:\n",
    "        f.write(film + \"\\n\")"
   ]
  },
  {
   "cell_type": "code",
   "execution_count": null,
   "id": "1aa98cf3-e957-4940-871d-74b95d1869ba",
   "metadata": {},
   "outputs": [],
   "source": []
  }
 ],
 "metadata": {
  "kernelspec": {
   "display_name": "Python 3 (ipykernel)",
   "language": "python",
   "name": "python3"
  },
  "language_info": {
   "codemirror_mode": {
    "name": "ipython",
    "version": 3
   },
   "file_extension": ".py",
   "mimetype": "text/x-python",
   "name": "python",
   "nbconvert_exporter": "python",
   "pygments_lexer": "ipython3",
   "version": "3.12.2"
  }
 },
 "nbformat": 4,
 "nbformat_minor": 5
}
